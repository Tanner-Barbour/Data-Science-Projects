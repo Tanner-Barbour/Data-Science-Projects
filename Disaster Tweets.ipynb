{
 "cells": [
  {
   "cell_type": "code",
   "execution_count": 1,
   "id": "33ed22da",
   "metadata": {},
   "outputs": [
    {
     "name": "stderr",
     "output_type": "stream",
     "text": [
      "[nltk_data] Downloading package stopwords to\n",
      "[nltk_data]     C:\\Users\\15403\\AppData\\Roaming\\nltk_data...\n",
      "[nltk_data]   Package stopwords is already up-to-date!\n"
     ]
    },
    {
     "data": {
      "text/plain": [
       "True"
      ]
     },
     "execution_count": 1,
     "metadata": {},
     "output_type": "execute_result"
    }
   ],
   "source": [
    "import nltk\n",
    "import pandas as pd\n",
    "import nltk\n",
    "nltk.download('stopwords')"
   ]
  },
  {
   "cell_type": "code",
   "execution_count": 2,
   "id": "b0e9a479",
   "metadata": {},
   "outputs": [],
   "source": [
    "tdf = pd.read_csv(\"train.csv\")"
   ]
  },
  {
   "cell_type": "code",
   "execution_count": 3,
   "id": "43e1f1f7",
   "metadata": {},
   "outputs": [],
   "source": [
    "tweet = pd.DataFrame(tdf)"
   ]
  },
  {
   "cell_type": "code",
   "execution_count": 4,
   "id": "b876ea82",
   "metadata": {},
   "outputs": [],
   "source": [
    "tweet.drop(columns='keyword',inplace=True)"
   ]
  },
  {
   "cell_type": "code",
   "execution_count": 5,
   "id": "1bc6abfa",
   "metadata": {},
   "outputs": [],
   "source": [
    "tweet.drop(columns='location',inplace = True)"
   ]
  },
  {
   "cell_type": "code",
   "execution_count": 6,
   "id": "228a0b4e",
   "metadata": {},
   "outputs": [],
   "source": [
    "tweets = [x for x in tweet['text']]"
   ]
  },
  {
   "cell_type": "code",
   "execution_count": 7,
   "id": "1fab559f",
   "metadata": {},
   "outputs": [
    {
     "name": "stdout",
     "output_type": "stream",
     "text": [
      "0 Our Deeds are the Reason of this #earthquake May ALLAH Forgive us all\n",
      "\n",
      "\n",
      "1 Forest fire near La Ronge Sask. Canada\n",
      "\n",
      "\n",
      "2 All residents asked to 'shelter in place' are being notified by officers. No other evacuation or shelter in place orders are expected\n",
      "\n",
      "\n",
      "3 13,000 people receive #wildfires evacuation orders in California \n",
      "\n",
      "\n",
      "4 Just got sent this photo from Ruby #Alaska as smoke from #wildfires pours into a school \n",
      "\n",
      "\n",
      "5 #RockyFire Update => California Hwy. 20 closed in both directions due to Lake County fire - #CAfire #wildfires\n",
      "\n",
      "\n",
      "6 #flood #disaster Heavy rain causes flash flooding of streets in Manitou, Colorado Springs areas\n",
      "\n",
      "\n",
      "7 I'm on top of the hill and I can see a fire in the woods...\n",
      "\n",
      "\n",
      "8 There's an emergency evacuation happening now in the building across the street\n",
      "\n",
      "\n",
      "9 I'm afraid that the tornado is coming to our area...\n",
      "\n",
      "\n"
     ]
    }
   ],
   "source": [
    "for tweets_no, tweets in enumerate(tweets[:10]):\n",
    "    print(tweets_no, tweets)\n",
    "    print('\\n')"
   ]
  },
  {
   "cell_type": "code",
   "execution_count": 8,
   "id": "0c7eeffe",
   "metadata": {},
   "outputs": [
    {
     "data": {
      "text/html": [
       "<div>\n",
       "<style scoped>\n",
       "    .dataframe tbody tr th:only-of-type {\n",
       "        vertical-align: middle;\n",
       "    }\n",
       "\n",
       "    .dataframe tbody tr th {\n",
       "        vertical-align: top;\n",
       "    }\n",
       "\n",
       "    .dataframe thead tr th {\n",
       "        text-align: left;\n",
       "    }\n",
       "\n",
       "    .dataframe thead tr:last-of-type th {\n",
       "        text-align: right;\n",
       "    }\n",
       "</style>\n",
       "<table border=\"1\" class=\"dataframe\">\n",
       "  <thead>\n",
       "    <tr>\n",
       "      <th></th>\n",
       "      <th colspan=\"8\" halign=\"left\">id</th>\n",
       "    </tr>\n",
       "    <tr>\n",
       "      <th></th>\n",
       "      <th>count</th>\n",
       "      <th>mean</th>\n",
       "      <th>std</th>\n",
       "      <th>min</th>\n",
       "      <th>25%</th>\n",
       "      <th>50%</th>\n",
       "      <th>75%</th>\n",
       "      <th>max</th>\n",
       "    </tr>\n",
       "    <tr>\n",
       "      <th>target</th>\n",
       "      <th></th>\n",
       "      <th></th>\n",
       "      <th></th>\n",
       "      <th></th>\n",
       "      <th></th>\n",
       "      <th></th>\n",
       "      <th></th>\n",
       "      <th></th>\n",
       "    </tr>\n",
       "  </thead>\n",
       "  <tbody>\n",
       "    <tr>\n",
       "      <th>0</th>\n",
       "      <td>4342.0</td>\n",
       "      <td>5276.446338</td>\n",
       "      <td>3157.206802</td>\n",
       "      <td>23.0</td>\n",
       "      <td>2513.25</td>\n",
       "      <td>5243.5</td>\n",
       "      <td>8038.5</td>\n",
       "      <td>10848.0</td>\n",
       "    </tr>\n",
       "    <tr>\n",
       "      <th>1</th>\n",
       "      <td>3271.0</td>\n",
       "      <td>5661.608071</td>\n",
       "      <td>3097.094809</td>\n",
       "      <td>1.0</td>\n",
       "      <td>3104.50</td>\n",
       "      <td>5676.0</td>\n",
       "      <td>8252.0</td>\n",
       "      <td>10873.0</td>\n",
       "    </tr>\n",
       "  </tbody>\n",
       "</table>\n",
       "</div>"
      ],
      "text/plain": [
       "            id                                                           \\\n",
       "         count         mean          std   min      25%     50%     75%   \n",
       "target                                                                    \n",
       "0       4342.0  5276.446338  3157.206802  23.0  2513.25  5243.5  8038.5   \n",
       "1       3271.0  5661.608071  3097.094809   1.0  3104.50  5676.0  8252.0   \n",
       "\n",
       "                 \n",
       "            max  \n",
       "target           \n",
       "0       10848.0  \n",
       "1       10873.0  "
      ]
     },
     "execution_count": 8,
     "metadata": {},
     "output_type": "execute_result"
    }
   ],
   "source": [
    "tweet.groupby('target').describe()"
   ]
  },
  {
   "cell_type": "code",
   "execution_count": 9,
   "id": "9e722e78",
   "metadata": {},
   "outputs": [],
   "source": [
    "tweet['length'] = tweet['text'].apply(len)"
   ]
  },
  {
   "cell_type": "code",
   "execution_count": 10,
   "id": "b1e81b68",
   "metadata": {},
   "outputs": [],
   "source": [
    "import matplotlib.pyplot as plt\n",
    "import seaborn as sns\n",
    "%matplotlib inline"
   ]
  },
  {
   "cell_type": "code",
   "execution_count": 11,
   "id": "2e5eac56",
   "metadata": {},
   "outputs": [
    {
     "data": {
      "text/plain": [
       "<AxesSubplot:ylabel='Frequency'>"
      ]
     },
     "execution_count": 11,
     "metadata": {},
     "output_type": "execute_result"
    },
    {
     "data": {
      "image/png": "[encoded data removed]",
      "text/plain": [
       "<Figure size 432x288 with 1 Axes>"
      ]
     },
     "metadata": {
      "needs_background": "light"
     },
     "output_type": "display_data"
    }
   ],
   "source": [
    "tweet['length'].plot(bins=50,kind='hist')"
   ]
  },
  {
   "cell_type": "code",
   "execution_count": 12,
   "id": "4e65a715",
   "metadata": {},
   "outputs": [
    {
     "data": {
      "text/plain": [
       "count    7613.000000\n",
       "mean      101.037436\n",
       "std        33.781325\n",
       "min         7.000000\n",
       "25%        78.000000\n",
       "50%       107.000000\n",
       "75%       133.000000\n",
       "max       157.000000\n",
       "Name: length, dtype: float64"
      ]
     },
     "execution_count": 12,
     "metadata": {},
     "output_type": "execute_result"
    }
   ],
   "source": [
    "tweet.length.describe()"
   ]
  },
  {
   "cell_type": "code",
   "execution_count": 13,
   "id": "036295c4",
   "metadata": {},
   "outputs": [
    {
     "data": {
      "text/plain": [
       "array([<AxesSubplot:title={'center':'0'}>,\n",
       "       <AxesSubplot:title={'center':'1'}>], dtype=object)"
      ]
     },
     "execution_count": 13,
     "metadata": {},
     "output_type": "execute_result"
    },
    {
     "data": {
      "image/png": "[encoded data removed]",
      "text/plain": [
       "<Figure size 720x360 with 2 Axes>"
      ]
     },
     "metadata": {
      "needs_background": "light"
     },
     "output_type": "display_data"
    }
   ],
   "source": [
    "tweet.hist(column='length', by='target',bins=50,figsize=(10,5))"
   ]
  },
  {
   "cell_type": "code",
   "execution_count": 14,
   "id": "f66ac092",
   "metadata": {},
   "outputs": [],
   "source": [
    "import string\n",
    "from nltk.corpus import stopwords"
   ]
  },
  {
   "cell_type": "code",
   "execution_count": 15,
   "id": "48996850",
   "metadata": {},
   "outputs": [],
   "source": [
    "def text_process(dirty):\n",
    "    rempunc = [char for char in dirty if char not in string.punctuation]\n",
    "    rempunc = ''.join(rempunc)\n",
    "    return [word for word in rempunc.split() if word.lower() not in stopwords.words('english')]"
   ]
  },
  {
   "cell_type": "code",
   "execution_count": 16,
   "id": "57551433",
   "metadata": {},
   "outputs": [
    {
     "data": {
      "text/plain": [
       "0    [Deeds, Reason, earthquake, May, ALLAH, Forgiv...\n",
       "1        [Forest, fire, near, La, Ronge, Sask, Canada]\n",
       "2    [residents, asked, shelter, place, notified, o...\n",
       "3    [13000, people, receive, wildfires, evacuation...\n",
       "4    [got, sent, photo, Ruby, Alaska, smoke, wildfi...\n",
       "Name: text, dtype: object"
      ]
     },
     "execution_count": 16,
     "metadata": {},
     "output_type": "execute_result"
    }
   ],
   "source": [
    "tweet['text'].head(5).apply(text_process)"
   ]
  },
  {
   "cell_type": "code",
   "execution_count": 17,
   "id": "67422e66",
   "metadata": {},
   "outputs": [
    {
     "data": {
      "text/html": [
       "<div>\n",
       "<style scoped>\n",
       "    .dataframe tbody tr th:only-of-type {\n",
       "        vertical-align: middle;\n",
       "    }\n",
       "\n",
       "    .dataframe tbody tr th {\n",
       "        vertical-align: top;\n",
       "    }\n",
       "\n",
       "    .dataframe thead th {\n",
       "        text-align: right;\n",
       "    }\n",
       "</style>\n",
       "<table border=\"1\" class=\"dataframe\">\n",
       "  <thead>\n",
       "    <tr style=\"text-align: right;\">\n",
       "      <th></th>\n",
       "      <th>id</th>\n",
       "      <th>text</th>\n",
       "      <th>target</th>\n",
       "      <th>length</th>\n",
       "    </tr>\n",
       "  </thead>\n",
       "  <tbody>\n",
       "    <tr>\n",
       "      <th>0</th>\n",
       "      <td>1</td>\n",
       "      <td>Our Deeds are the Reason of this #earthquake M...</td>\n",
       "      <td>1</td>\n",
       "      <td>69</td>\n",
       "    </tr>\n",
       "    <tr>\n",
       "      <th>1</th>\n",
       "      <td>4</td>\n",
       "      <td>Forest fire near La Ronge Sask. Canada</td>\n",
       "      <td>1</td>\n",
       "      <td>38</td>\n",
       "    </tr>\n",
       "    <tr>\n",
       "      <th>2</th>\n",
       "      <td>5</td>\n",
       "      <td>All residents asked to 'shelter in place' are ...</td>\n",
       "      <td>1</td>\n",
       "      <td>133</td>\n",
       "    </tr>\n",
       "    <tr>\n",
       "      <th>3</th>\n",
       "      <td>6</td>\n",
       "      <td>13,000 people receive #wildfires evacuation or...</td>\n",
       "      <td>1</td>\n",
       "      <td>65</td>\n",
       "    </tr>\n",
       "    <tr>\n",
       "      <th>4</th>\n",
       "      <td>7</td>\n",
       "      <td>Just got sent this photo from Ruby #Alaska as ...</td>\n",
       "      <td>1</td>\n",
       "      <td>88</td>\n",
       "    </tr>\n",
       "  </tbody>\n",
       "</table>\n",
       "</div>"
      ],
      "text/plain": [
       "   id                                               text  target  length\n",
       "0   1  Our Deeds are the Reason of this #earthquake M...       1      69\n",
       "1   4             Forest fire near La Ronge Sask. Canada       1      38\n",
       "2   5  All residents asked to 'shelter in place' are ...       1     133\n",
       "3   6  13,000 people receive #wildfires evacuation or...       1      65\n",
       "4   7  Just got sent this photo from Ruby #Alaska as ...       1      88"
      ]
     },
     "execution_count": 17,
     "metadata": {},
     "output_type": "execute_result"
    }
   ],
   "source": [
    "tweet.head()"
   ]
  },
  {
   "cell_type": "code",
   "execution_count": 18,
   "id": "b0d6f9cd",
   "metadata": {},
   "outputs": [],
   "source": [
    "from sklearn.feature_extraction.text import CountVectorizer"
   ]
  },
  {
   "cell_type": "code",
   "execution_count": 19,
   "id": "fb8b7c1a",
   "metadata": {
    "scrolled": true
   },
   "outputs": [
    {
     "name": "stdout",
     "output_type": "stream",
     "text": [
      "26473\n"
     ]
    }
   ],
   "source": [
    "bow_transformer = CountVectorizer(analyzer=text_process).fit(tweet['text'])\n",
    "print(len(bow_transformer.vocabulary_))"
   ]
  },
  {
   "cell_type": "code",
   "execution_count": 20,
   "id": "8a947e45",
   "metadata": {},
   "outputs": [
    {
     "name": "stdout",
     "output_type": "stream",
     "text": [
      "13,000 people receive #wildfires evacuation orders in California \n"
     ]
    }
   ],
   "source": [
    "tweet4 = tweet['text'][3]\n",
    "print(tweet4)"
   ]
  },
  {
   "cell_type": "code",
   "execution_count": 21,
   "id": "762b9f73",
   "metadata": {},
   "outputs": [
    {
     "name": "stdout",
     "output_type": "stream",
     "text": [
      "  (0, 144)\t1\n",
      "  (0, 2334)\t1\n",
      "  (0, 14502)\t1\n",
      "  (0, 22409)\t1\n",
      "  (0, 22635)\t1\n",
      "  (0, 23345)\t1\n",
      "  (0, 26071)\t1\n",
      "(1, 26473)\n"
     ]
    }
   ],
   "source": [
    "bow4 = bow_transformer.transform([tweet4])\n",
    "print(bow4)\n",
    "print(bow4.shape)"
   ]
  },
  {
   "cell_type": "code",
   "execution_count": 22,
   "id": "b0cc8426",
   "metadata": {},
   "outputs": [],
   "source": [
    "tweet_bow = bow_transformer.transform(tweet['text'])"
   ]
  },
  {
   "cell_type": "code",
   "execution_count": 23,
   "id": "1a5f317f",
   "metadata": {},
   "outputs": [
    {
     "name": "stdout",
     "output_type": "stream",
     "text": [
      "Shape of Sparse Matrix:  (7613, 26473)\n",
      "Amount of Non-Zero occurences:  75006\n"
     ]
    }
   ],
   "source": [
    "print('Shape of Sparse Matrix: ', tweet_bow.shape)\n",
    "print('Amount of Non-Zero occurences: ', tweet_bow.nnz)"
   ]
  },
  {
   "cell_type": "code",
   "execution_count": 24,
   "id": "2ab97b36",
   "metadata": {},
   "outputs": [
    {
     "name": "stdout",
     "output_type": "stream",
     "text": [
      "sparsity: 0\n"
     ]
    }
   ],
   "source": [
    "sparsity = (100.0 * tweet_bow.nnz / (tweet_bow.shape[0] * tweet_bow.shape[1]))\n",
    "print('sparsity: {}'.format(round(sparsity)))"
   ]
  },
  {
   "cell_type": "code",
   "execution_count": 25,
   "id": "b601eff5",
   "metadata": {},
   "outputs": [
    {
     "name": "stdout",
     "output_type": "stream",
     "text": [
      "  (0, 26071)\t0.4024513325168046\n",
      "  (0, 23345)\t0.4718026141633829\n",
      "  (0, 22635)\t0.25921479580657425\n",
      "  (0, 22409)\t0.39780696282539063\n",
      "  (0, 14502)\t0.3391667965318131\n",
      "  (0, 2334)\t0.2781109881741682\n",
      "  (0, 144)\t0.44453648958637354\n"
     ]
    }
   ],
   "source": [
    "from sklearn.feature_extraction.text import TfidfTransformer\n",
    "\n",
    "tfidf_transformer = TfidfTransformer().fit(tweet_bow)\n",
    "tfidf4 = tfidf_transformer.transform(bow4)\n",
    "print(tfidf4)"
   ]
  },
  {
   "cell_type": "code",
   "execution_count": 26,
   "id": "11061c54",
   "metadata": {},
   "outputs": [
    {
     "name": "stdout",
     "output_type": "stream",
     "text": [
      "4.850147601710058\n"
     ]
    }
   ],
   "source": [
    "print(tfidf_transformer.idf_[bow_transformer.vocabulary_['fire']])"
   ]
  },
  {
   "cell_type": "code",
   "execution_count": 27,
   "id": "2c5b1629",
   "metadata": {},
   "outputs": [
    {
     "name": "stdout",
     "output_type": "stream",
     "text": [
      "(7613, 26473)\n"
     ]
    }
   ],
   "source": [
    "tweet_tfidf = tfidf_transformer.transform(tweet_bow)\n",
    "print(tweet_tfidf.shape)"
   ]
  },
  {
   "cell_type": "code",
   "execution_count": 28,
   "id": "fddde702",
   "metadata": {},
   "outputs": [],
   "source": [
    "from sklearn.naive_bayes import MultinomialNB\n",
    "accident_detect_model = MultinomialNB().fit(tweet_tfidf, tweet['target'])"
   ]
  },
  {
   "cell_type": "code",
   "execution_count": 29,
   "id": "9f34b654",
   "metadata": {},
   "outputs": [
    {
     "name": "stdout",
     "output_type": "stream",
     "text": [
      "predicted: 1\n",
      "expected: 0\n"
     ]
    }
   ],
   "source": [
    "print('predicted:', accident_detect_model.predict(tfidf4)[0])\n",
    "print('expected:', tweet.target[23])"
   ]
  },
  {
   "cell_type": "code",
   "execution_count": 30,
   "id": "35b99c4e",
   "metadata": {},
   "outputs": [
    {
     "name": "stdout",
     "output_type": "stream",
     "text": [
      "[1 1 1 ... 1 1 1]\n"
     ]
    }
   ],
   "source": [
    "all_predictions = accident_detect_model.predict(tweet_tfidf)\n",
    "print(all_predictions)"
   ]
  },
  {
   "cell_type": "code",
   "execution_count": 31,
   "id": "8f9c4555",
   "metadata": {},
   "outputs": [
    {
     "name": "stdout",
     "output_type": "stream",
     "text": [
      "              precision    recall  f1-score   support\n",
      "\n",
      "           0       0.88      0.98      0.93      4342\n",
      "           1       0.97      0.83      0.89      3271\n",
      "\n",
      "    accuracy                           0.91      7613\n",
      "   macro avg       0.93      0.90      0.91      7613\n",
      "weighted avg       0.92      0.91      0.91      7613\n",
      "\n"
     ]
    }
   ],
   "source": [
    "from sklearn.metrics import classification_report\n",
    "print(classification_report(tweet['target'],all_predictions))"
   ]
  },
  {
   "cell_type": "code",
   "execution_count": 32,
   "id": "35be23b8",
   "metadata": {},
   "outputs": [
    {
     "name": "stdout",
     "output_type": "stream",
     "text": [
      "6090 1523 7613\n"
     ]
    }
   ],
   "source": [
    "from sklearn.model_selection import train_test_split\n",
    "\n",
    "twt_train, twt_test, target_train, target_test = \\\n",
    "train_test_split(tweet['text'], tweet['target'], test_size=0.2)\n",
    "\n",
    "print(len(twt_train), len(twt_test), len(twt_train) + len(twt_test))"
   ]
  },
  {
   "cell_type": "code",
   "execution_count": 33,
   "id": "7a0db5de",
   "metadata": {},
   "outputs": [],
   "source": [
    "from sklearn.pipeline import Pipeline\n",
    "\n",
    "pipeline = Pipeline([\n",
    "    ('bow', CountVectorizer(analyzer=text_process)),  # strings to token integer counts\n",
    "    ('tfidf', TfidfTransformer()),  # integer counts to weighted TF-IDF scores\n",
    "    ('classifier', MultinomialNB()),  # train on TF-IDF vectors w/ Naive Bayes classifier\n",
    "])"
   ]
  },
  {
   "cell_type": "code",
   "execution_count": 34,
   "id": "708084fd",
   "metadata": {},
   "outputs": [
    {
     "data": {
      "text/plain": [
       "Pipeline(steps=[('bow',\n",
       "                 CountVectorizer(analyzer=<function text_process at 0x000001B440D84E50>)),\n",
       "                ('tfidf', TfidfTransformer()),\n",
       "                ('classifier', MultinomialNB())])"
      ]
     },
     "execution_count": 34,
     "metadata": {},
     "output_type": "execute_result"
    }
   ],
   "source": [
    "pipeline.fit(twt_train,target_train)"
   ]
  },
  {
   "cell_type": "code",
   "execution_count": 35,
   "id": "449d579d",
   "metadata": {},
   "outputs": [],
   "source": [
    "predictions = pipeline.predict(twt_test)"
   ]
  },
  {
   "cell_type": "code",
   "execution_count": 36,
   "id": "65081364",
   "metadata": {},
   "outputs": [
    {
     "name": "stdout",
     "output_type": "stream",
     "text": [
      "              precision    recall  f1-score   support\n",
      "\n",
      "           0       0.79      0.90      0.84       880\n",
      "           1       0.83      0.68      0.75       643\n",
      "\n",
      "    accuracy                           0.80      1523\n",
      "   macro avg       0.81      0.79      0.79      1523\n",
      "weighted avg       0.81      0.80      0.80      1523\n",
      "\n"
     ]
    }
   ],
   "source": [
    "print(classification_report(target_test,predictions))"
   ]
  },
  {
   "cell_type": "code",
   "execution_count": null,
   "id": "ddb1c652",
   "metadata": {},
   "outputs": [],
   "source": []
  }
 ],
 "metadata": {
  "kernelspec": {
   "display_name": "Python 3 (ipykernel)",
   "language": "python",
   "name": "python3"
  },
  "language_info": {
   "codemirror_mode": {
    "name": "ipython",
    "version": 3
   },
   "file_extension": ".py",
   "mimetype": "text/x-python",
   "name": "python",
   "nbconvert_exporter": "python",
   "pygments_lexer": "ipython3",
   "version": "3.9.7"
  }
 },
 "nbformat": 4,
 "nbformat_minor": 5
}
