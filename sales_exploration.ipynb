{
 "cells": [
  {
   "cell_type": "code",
   "execution_count": 1,
   "metadata": {},
   "outputs": [],
   "source": [
    "import pandas as pd\n",
    "import seaborn as sns\n",
    "import matplotlib.pyplot as plt\n",
    "import numpy as np"
   ]
  },
  {
   "cell_type": "code",
   "execution_count": 2,
   "metadata": {},
   "outputs": [
    {
     "name": "stderr",
     "output_type": "stream",
     "text": [
      "/Applications/anaconda3/lib/python3.9/site-packages/IPython/core/interactiveshell.py:3444: DtypeWarning: Columns (0) have mixed types.Specify dtype option on import or set low_memory=False.\n",
      "  exec(code_obj, self.user_global_ns, self.user_ns)\n"
     ]
    }
   ],
   "source": [
    "csv = pd.read_csv('sales.csv')\n",
    "df = pd.DataFrame(csv)"
   ]
  },
  {
   "cell_type": "markdown",
   "metadata": {},
   "source": [
    "<h2>Early Exploratory Data to Find Focus</h2>"
   ]
  },
  {
   "cell_type": "code",
   "execution_count": 3,
   "metadata": {},
   "outputs": [
    {
     "name": "stdout",
     "output_type": "stream",
     "text": [
      "<class 'pandas.core.frame.DataFrame'>\n",
      "RangeIndex: 286392 entries, 0 to 286391\n",
      "Data columns (total 36 columns):\n",
      " #   Column            Non-Null Count   Dtype  \n",
      "---  ------            --------------   -----  \n",
      " 0   order_id          286392 non-null  object \n",
      " 1   order_date        286392 non-null  object \n",
      " 2   status            286392 non-null  object \n",
      " 3   item_id           286392 non-null  float64\n",
      " 4   sku               286392 non-null  object \n",
      " 5   qty_ordered       286392 non-null  float64\n",
      " 6   price             286392 non-null  float64\n",
      " 7   value             286392 non-null  float64\n",
      " 8   discount_amount   286392 non-null  float64\n",
      " 9   total             286392 non-null  float64\n",
      " 10  category          286392 non-null  object \n",
      " 11  payment_method    286392 non-null  object \n",
      " 12  bi_st             286392 non-null  object \n",
      " 13  cust_id           286392 non-null  float64\n",
      " 14  year              286392 non-null  int64  \n",
      " 15  month             286392 non-null  object \n",
      " 16  ref_num           286392 non-null  int64  \n",
      " 17  Name Prefix       286392 non-null  object \n",
      " 18  First Name        286392 non-null  object \n",
      " 19  Middle Initial    286392 non-null  object \n",
      " 20  Last Name         286392 non-null  object \n",
      " 21  Gender            286392 non-null  object \n",
      " 22  age               286392 non-null  float64\n",
      " 23  full_name         286392 non-null  object \n",
      " 24  E Mail            286392 non-null  object \n",
      " 25  Customer Since    286392 non-null  object \n",
      " 26  SSN               286392 non-null  object \n",
      " 27  Phone No.         286392 non-null  object \n",
      " 28  Place Name        286392 non-null  object \n",
      " 29  County            286392 non-null  object \n",
      " 30  City              286392 non-null  object \n",
      " 31  State             286392 non-null  object \n",
      " 32  Zip               286392 non-null  int64  \n",
      " 33  Region            286392 non-null  object \n",
      " 34  User Name         286392 non-null  object \n",
      " 35  Discount_Percent  286392 non-null  float64\n",
      "dtypes: float64(9), int64(3), object(24)\n",
      "memory usage: 78.7+ MB\n"
     ]
    }
   ],
   "source": [
    "df.info()"
   ]
  },
  {
   "cell_type": "code",
   "execution_count": 4,
   "metadata": {},
   "outputs": [
    {
     "data": {
      "text/html": [
       "<div>\n",
       "<style scoped>\n",
       "    .dataframe tbody tr th:only-of-type {\n",
       "        vertical-align: middle;\n",
       "    }\n",
       "\n",
       "    .dataframe tbody tr th {\n",
       "        vertical-align: top;\n",
       "    }\n",
       "\n",
       "    .dataframe thead th {\n",
       "        text-align: right;\n",
       "    }\n",
       "</style>\n",
       "<table border=\"1\" class=\"dataframe\">\n",
       "  <thead>\n",
       "    <tr style=\"text-align: right;\">\n",
       "      <th></th>\n",
       "      <th>item_id</th>\n",
       "      <th>qty_ordered</th>\n",
       "      <th>price</th>\n",
       "      <th>value</th>\n",
       "      <th>discount_amount</th>\n",
       "      <th>total</th>\n",
       "      <th>cust_id</th>\n",
       "      <th>year</th>\n",
       "      <th>ref_num</th>\n",
       "      <th>age</th>\n",
       "      <th>Zip</th>\n",
       "      <th>Discount_Percent</th>\n",
       "    </tr>\n",
       "  </thead>\n",
       "  <tbody>\n",
       "    <tr>\n",
       "      <th>count</th>\n",
       "      <td>286392.000000</td>\n",
       "      <td>286392.000000</td>\n",
       "      <td>286392.000000</td>\n",
       "      <td>286392.000000</td>\n",
       "      <td>286392.000000</td>\n",
       "      <td>286392.000000</td>\n",
       "      <td>286392.000000</td>\n",
       "      <td>286392.000000</td>\n",
       "      <td>286392.000000</td>\n",
       "      <td>286392.000000</td>\n",
       "      <td>286392.000000</td>\n",
       "      <td>286392.000000</td>\n",
       "    </tr>\n",
       "    <tr>\n",
       "      <th>mean</th>\n",
       "      <td>741664.902131</td>\n",
       "      <td>3.011296</td>\n",
       "      <td>851.385253</td>\n",
       "      <td>885.879934</td>\n",
       "      <td>70.039427</td>\n",
       "      <td>815.840507</td>\n",
       "      <td>70048.019054</td>\n",
       "      <td>2020.618778</td>\n",
       "      <td>560853.663395</td>\n",
       "      <td>46.489033</td>\n",
       "      <td>49723.160015</td>\n",
       "      <td>6.069079</td>\n",
       "    </tr>\n",
       "    <tr>\n",
       "      <th>std</th>\n",
       "      <td>95746.031827</td>\n",
       "      <td>4.573837</td>\n",
       "      <td>1741.750751</td>\n",
       "      <td>2073.252179</td>\n",
       "      <td>256.880870</td>\n",
       "      <td>1983.580302</td>\n",
       "      <td>30243.856395</td>\n",
       "      <td>0.485688</td>\n",
       "      <td>255828.418398</td>\n",
       "      <td>16.673288</td>\n",
       "      <td>27597.198873</td>\n",
       "      <td>10.100100</td>\n",
       "    </tr>\n",
       "    <tr>\n",
       "      <th>min</th>\n",
       "      <td>574769.000000</td>\n",
       "      <td>1.000000</td>\n",
       "      <td>0.000000</td>\n",
       "      <td>0.000000</td>\n",
       "      <td>0.000000</td>\n",
       "      <td>0.000000</td>\n",
       "      <td>4.000000</td>\n",
       "      <td>2020.000000</td>\n",
       "      <td>111127.000000</td>\n",
       "      <td>18.000000</td>\n",
       "      <td>210.000000</td>\n",
       "      <td>0.000000</td>\n",
       "    </tr>\n",
       "    <tr>\n",
       "      <th>25%</th>\n",
       "      <td>659684.500000</td>\n",
       "      <td>2.000000</td>\n",
       "      <td>49.900000</td>\n",
       "      <td>49.900000</td>\n",
       "      <td>0.000000</td>\n",
       "      <td>49.900000</td>\n",
       "      <td>56519.000000</td>\n",
       "      <td>2020.000000</td>\n",
       "      <td>341265.000000</td>\n",
       "      <td>32.000000</td>\n",
       "      <td>26571.750000</td>\n",
       "      <td>0.000000</td>\n",
       "    </tr>\n",
       "    <tr>\n",
       "      <th>50%</th>\n",
       "      <td>742309.000000</td>\n",
       "      <td>2.000000</td>\n",
       "      <td>119.000000</td>\n",
       "      <td>158.970000</td>\n",
       "      <td>0.000000</td>\n",
       "      <td>149.800000</td>\n",
       "      <td>74225.500000</td>\n",
       "      <td>2021.000000</td>\n",
       "      <td>564857.000000</td>\n",
       "      <td>47.000000</td>\n",
       "      <td>49316.000000</td>\n",
       "      <td>0.000000</td>\n",
       "    </tr>\n",
       "    <tr>\n",
       "      <th>75%</th>\n",
       "      <td>826124.250000</td>\n",
       "      <td>3.000000</td>\n",
       "      <td>950.000000</td>\n",
       "      <td>910.000000</td>\n",
       "      <td>18.383050</td>\n",
       "      <td>800.000000</td>\n",
       "      <td>92357.000000</td>\n",
       "      <td>2021.000000</td>\n",
       "      <td>781086.000000</td>\n",
       "      <td>61.000000</td>\n",
       "      <td>72645.000000</td>\n",
       "      <td>11.000000</td>\n",
       "    </tr>\n",
       "    <tr>\n",
       "      <th>max</th>\n",
       "      <td>905208.000000</td>\n",
       "      <td>501.000000</td>\n",
       "      <td>101262.590000</td>\n",
       "      <td>101262.590000</td>\n",
       "      <td>30213.150000</td>\n",
       "      <td>101262.590000</td>\n",
       "      <td>115326.000000</td>\n",
       "      <td>2021.000000</td>\n",
       "      <td>999981.000000</td>\n",
       "      <td>75.000000</td>\n",
       "      <td>99950.000000</td>\n",
       "      <td>75.000000</td>\n",
       "    </tr>\n",
       "  </tbody>\n",
       "</table>\n",
       "</div>"
      ],
      "text/plain": [
       "             item_id    qty_ordered          price          value  \\\n",
       "count  286392.000000  286392.000000  286392.000000  286392.000000   \n",
       "mean   741664.902131       3.011296     851.385253     885.879934   \n",
       "std     95746.031827       4.573837    1741.750751    2073.252179   \n",
       "min    574769.000000       1.000000       0.000000       0.000000   \n",
       "25%    659684.500000       2.000000      49.900000      49.900000   \n",
       "50%    742309.000000       2.000000     119.000000     158.970000   \n",
       "75%    826124.250000       3.000000     950.000000     910.000000   \n",
       "max    905208.000000     501.000000  101262.590000  101262.590000   \n",
       "\n",
       "       discount_amount          total        cust_id           year  \\\n",
       "count    286392.000000  286392.000000  286392.000000  286392.000000   \n",
       "mean         70.039427     815.840507   70048.019054    2020.618778   \n",
       "std         256.880870    1983.580302   30243.856395       0.485688   \n",
       "min           0.000000       0.000000       4.000000    2020.000000   \n",
       "25%           0.000000      49.900000   56519.000000    2020.000000   \n",
       "50%           0.000000     149.800000   74225.500000    2021.000000   \n",
       "75%          18.383050     800.000000   92357.000000    2021.000000   \n",
       "max       30213.150000  101262.590000  115326.000000    2021.000000   \n",
       "\n",
       "             ref_num            age            Zip  Discount_Percent  \n",
       "count  286392.000000  286392.000000  286392.000000     286392.000000  \n",
       "mean   560853.663395      46.489033   49723.160015          6.069079  \n",
       "std    255828.418398      16.673288   27597.198873         10.100100  \n",
       "min    111127.000000      18.000000     210.000000          0.000000  \n",
       "25%    341265.000000      32.000000   26571.750000          0.000000  \n",
       "50%    564857.000000      47.000000   49316.000000          0.000000  \n",
       "75%    781086.000000      61.000000   72645.000000         11.000000  \n",
       "max    999981.000000      75.000000   99950.000000         75.000000  "
      ]
     },
     "execution_count": 4,
     "metadata": {},
     "output_type": "execute_result"
    }
   ],
   "source": [
    "df.describe()"
   ]
  },
  {
   "cell_type": "code",
   "execution_count": 5,
   "metadata": {},
   "outputs": [
    {
     "data": {
      "text/plain": [
       "[(0.0, 5000.0)]"
      ]
     },
     "execution_count": 5,
     "metadata": {},
     "output_type": "execute_result"
    },
    {
     "data": {
      "image/png": "[encoded data removed]",
      "text/plain": [
       "<Figure size 1440x720 with 1 Axes>"
      ]
     },
     "metadata": {
      "needs_background": "light"
     },
     "output_type": "display_data"
    }
   ],
   "source": [
    "plt.figure(figsize = (20,10))\n",
    "bp = sns.barplot(x=\"category\",y=\"total\", data=df)\n",
    "bp.set(ylim=(0,5000))"
   ]
  },
  {
   "cell_type": "code",
   "execution_count": 6,
   "metadata": {},
   "outputs": [],
   "source": [
    "sp = df.pivot_table(index=\"month\",columns=\"category\",values=\"price\")"
   ]
  },
  {
   "cell_type": "code",
   "execution_count": 7,
   "metadata": {},
   "outputs": [
    {
     "data": {
      "text/plain": [
       "<AxesSubplot:xlabel='category', ylabel='month'>"
      ]
     },
     "execution_count": 7,
     "metadata": {},
     "output_type": "execute_result"
    },
    {
     "data": {
      "image/png": "[encoded data removed]",
      "text/plain": [
       "<Figure size 432x288 with 2 Axes>"
      ]
     },
     "metadata": {
      "needs_background": "light"
     },
     "output_type": "display_data"
    }
   ],
   "source": [
    "sns.heatmap(sp,cmap='cool',linecolor='white',linewidth=2)"
   ]
  },
  {
   "cell_type": "code",
   "execution_count": 8,
   "metadata": {},
   "outputs": [
    {
     "data": {
      "text/plain": [
       "<AxesSubplot:xlabel='status', ylabel='total'>"
      ]
     },
     "execution_count": 8,
     "metadata": {},
     "output_type": "execute_result"
    },
    {
     "data": {
      "image/png": "[encoded data removed]",
      "text/plain": [
       "<Figure size 1440x360 with 1 Axes>"
      ]
     },
     "metadata": {
      "needs_background": "light"
     },
     "output_type": "display_data"
    }
   ],
   "source": [
    "plt.figure(figsize=(20,5))\n",
    "sns.barplot(x='status',y='total',data=df)"
   ]
  },
  {
   "cell_type": "markdown",
   "metadata": {},
   "source": [
    "<h3>Realize Focus Should Be on Finding the Differences Between Completed Orders and Canceled Orders</h3>"
   ]
  },
  {
   "cell_type": "code",
   "execution_count": 9,
   "metadata": {},
   "outputs": [],
   "source": [
    "completed_order = df[df['status']=='complete']\n",
    "refunded_order = df[df['status']=='order_refunded']\n",
    "canceled_order = df[df['status']=='canceled']\n",
    "\n",
    "compare_df = pd.concat([completed_order,refunded_order,canceled_order],axis=0)"
   ]
  },
  {
   "cell_type": "code",
   "execution_count": 10,
   "metadata": {},
   "outputs": [
    {
     "name": "stdout",
     "output_type": "stream",
     "text": [
      "The average price of completed orders is: $703\n",
      "The average price of refunded orders is: $577\n",
      "The average price of canceled orders is: $1182\n"
     ]
    }
   ],
   "source": [
    "print('The average price of completed orders is: $' + str(int(completed_order['total'].mean())))\n",
    "print('The average price of refunded orders is: $' + str(int(refunded_order['total'].mean())))\n",
    "print('The average price of canceled orders is: $' + str(int(canceled_order['total'].mean())))"
   ]
  },
  {
   "cell_type": "code",
   "execution_count": 11,
   "metadata": {},
   "outputs": [],
   "source": [
    "pd.set_option('display.float_format', lambda x: '%.3f' % x)"
   ]
  },
  {
   "cell_type": "code",
   "execution_count": 12,
   "metadata": {},
   "outputs": [],
   "source": [
    "x = (canceled_order['total'][canceled_order['total']>10000].count())\n",
    "y = (df['total'][df['total']>10000].count())\n",
    "z = (refunded_order['total'][refunded_order['total']>10000].count())\n",
    "chance_canceled = (x/y) * 100\n",
    "chance_canceled = format(chance_canceled, '.2f') \n",
    "chance_can_ref = ((x+z)/y) * 100\n",
    "chance_can_ref = format(chance_can_ref, '.2f')\n"
   ]
  },
  {
   "cell_type": "code",
   "execution_count": 13,
   "metadata": {},
   "outputs": [
    {
     "name": "stdout",
     "output_type": "stream",
     "text": [
      "Currently if an order is over $10,000 there is a 84.33% chance that the order will be canceled!\n",
      "Currently if an order is over $10,000 there is a 89.07% chance that the order will be canceled or refunded!\n"
     ]
    }
   ],
   "source": [
    "print(\"Currently if an order is over $10,000 there is a \" + str(chance_canceled) + \"% chance that the order will be canceled!\")\n",
    "print(\"Currently if an order is over $10,000 there is a \" + str(chance_can_ref) + \"% chance that the order will be canceled or refunded!\")"
   ]
  },
  {
   "cell_type": "markdown",
   "metadata": {},
   "source": [
    "<h3>Which Customers Cancel The Most?</h3>"
   ]
  },
  {
   "cell_type": "code",
   "execution_count": 14,
   "metadata": {},
   "outputs": [
    {
     "data": {
      "text/plain": [
       "exbailes    685\n",
       "lumelo      590\n",
       "pnbraddy    421\n",
       "hmbeebe     387\n",
       "gebhatt     222\n",
       "Name: User Name, dtype: int64"
      ]
     },
     "execution_count": 14,
     "metadata": {},
     "output_type": "execute_result"
    }
   ],
   "source": [
    "canceled_order['User Name'].value_counts().head(5)"
   ]
  },
  {
   "cell_type": "markdown",
   "metadata": {},
   "source": [
    "<h3>Which Customers Complete Their Orders The Most?</h3>"
   ]
  },
  {
   "cell_type": "code",
   "execution_count": 15,
   "metadata": {},
   "outputs": [
    {
     "data": {
      "text/plain": [
       "jugonzalez     863\n",
       "swdivito       140\n",
       "jbsummerlin    139\n",
       "tnslattery     134\n",
       "jqcarraway     134\n",
       "Name: User Name, dtype: int64"
      ]
     },
     "execution_count": 15,
     "metadata": {},
     "output_type": "execute_result"
    }
   ],
   "source": [
    "completed_order['User Name'].value_counts().head(5)"
   ]
  },
  {
   "cell_type": "code",
   "execution_count": 16,
   "metadata": {},
   "outputs": [],
   "source": [
    "orders_per_state = df['State'].value_counts().head(5)"
   ]
  },
  {
   "cell_type": "code",
   "execution_count": 17,
   "metadata": {},
   "outputs": [
    {
     "name": "stdout",
     "output_type": "stream",
     "text": [
      "State with Most Completed Orders: \n",
      "CA    5836\n",
      "TX    5494\n",
      "NY    4556\n",
      "PA    4517\n",
      "IL    3937\n",
      "Name: State, dtype: int64\n",
      "State with Most Canceled Orders: \n",
      "TX    7014\n",
      "CA    6378\n",
      "NY    5896\n",
      "PA    5784\n",
      "IL    4357\n",
      "Name: State, dtype: int64\n"
     ]
    }
   ],
   "source": [
    "print(\"State with Most Completed Orders: \"+ \n",
    "\"\\n\"+\n",
    "str(completed_order['State'].value_counts().head(5))+ \n",
    "\"\\n\"+\n",
    "\"State with Most Canceled Orders: \"+\n",
    "\"\\n\"+\n",
    "str(canceled_order['State'].value_counts().head(5)))"
   ]
  },
  {
   "cell_type": "code",
   "execution_count": 18,
   "metadata": {},
   "outputs": [],
   "source": [
    "completions_per_state=completed_order['State'].value_counts()\n",
    "orders_per_state=df['State'].value_counts()\n",
    "cancels_per_state=canceled_order['State'].value_counts()"
   ]
  },
  {
   "cell_type": "code",
   "execution_count": 19,
   "metadata": {},
   "outputs": [],
   "source": [
    "state_stats = pd.DataFrame()"
   ]
  },
  {
   "cell_type": "code",
   "execution_count": 20,
   "metadata": {},
   "outputs": [],
   "source": [
    "percent_complete = (completions_per_state/orders_per_state)*100 \n",
    "percent_cancels = (cancels_per_state/orders_per_state)*100\n",
    "state_stats['percentage of orders completed'] = percent_complete\n",
    "state_stats['percentage of orders canceled'] = percent_cancels"
   ]
  },
  {
   "cell_type": "code",
   "execution_count": 21,
   "metadata": {},
   "outputs": [
    {
     "name": "stdout",
     "output_type": "stream",
     "text": [
      "State with Highest Percentage of Completed Orders vs Total Orders: \n",
      "DE   40.420\n",
      "RI   38.821\n",
      "NH   35.339\n",
      "MA   34.313\n",
      "CA   34.069\n",
      "Name: percentage of orders completed, dtype: float64\n",
      "State with Highest Percentage of Canceled Orders vs Total Orders: \n",
      "VT   45.527\n",
      "CO   45.016\n",
      "WY   44.181\n",
      "OK   43.537\n",
      "ME   43.367\n",
      "Name: percentage of orders canceled, dtype: float64\n"
     ]
    }
   ],
   "source": [
    "print(\"State with Highest Percentage of Completed Orders vs Total Orders: \"+\n",
    "\"\\n\"+\n",
    "(str(state_stats['percentage of orders completed'].sort_values(ascending=False).head()))+\n",
    "\"\\n\"+\n",
    "\"State with Highest Percentage of Canceled Orders vs Total Orders: \"+\n",
    "\"\\n\"+\n",
    "str(state_stats['percentage of orders canceled'].sort_values(ascending=False).head()))"
   ]
  },
  {
   "cell_type": "code",
   "execution_count": 22,
   "metadata": {},
   "outputs": [
    {
     "data": {
      "text/html": [
       "<div>\n",
       "<style scoped>\n",
       "    .dataframe tbody tr th:only-of-type {\n",
       "        vertical-align: middle;\n",
       "    }\n",
       "\n",
       "    .dataframe tbody tr th {\n",
       "        vertical-align: top;\n",
       "    }\n",
       "\n",
       "    .dataframe thead th {\n",
       "        text-align: right;\n",
       "    }\n",
       "</style>\n",
       "<table border=\"1\" class=\"dataframe\">\n",
       "  <thead>\n",
       "    <tr style=\"text-align: right;\">\n",
       "      <th></th>\n",
       "      <th>percentage of orders completed</th>\n",
       "      <th>percentage of orders canceled</th>\n",
       "      <th>totalsales</th>\n",
       "    </tr>\n",
       "  </thead>\n",
       "  <tbody>\n",
       "    <tr>\n",
       "      <th>AK</th>\n",
       "      <td>28.019</td>\n",
       "      <td>42.447</td>\n",
       "      <td>537054.544</td>\n",
       "    </tr>\n",
       "    <tr>\n",
       "      <th>AL</th>\n",
       "      <td>32.426</td>\n",
       "      <td>35.206</td>\n",
       "      <td>1134351.499</td>\n",
       "    </tr>\n",
       "    <tr>\n",
       "      <th>AR</th>\n",
       "      <td>31.168</td>\n",
       "      <td>39.453</td>\n",
       "      <td>1033689.304</td>\n",
       "    </tr>\n",
       "    <tr>\n",
       "      <th>AZ</th>\n",
       "      <td>33.459</td>\n",
       "      <td>36.315</td>\n",
       "      <td>870212.283</td>\n",
       "    </tr>\n",
       "    <tr>\n",
       "      <th>CA</th>\n",
       "      <td>34.069</td>\n",
       "      <td>37.233</td>\n",
       "      <td>4542157.948</td>\n",
       "    </tr>\n",
       "    <tr>\n",
       "      <th>CO</th>\n",
       "      <td>27.760</td>\n",
       "      <td>45.016</td>\n",
       "      <td>911013.382</td>\n",
       "    </tr>\n",
       "    <tr>\n",
       "      <th>CT</th>\n",
       "      <td>31.610</td>\n",
       "      <td>37.043</td>\n",
       "      <td>681759.629</td>\n",
       "    </tr>\n",
       "    <tr>\n",
       "      <th>DC</th>\n",
       "      <td>29.276</td>\n",
       "      <td>37.265</td>\n",
       "      <td>368370.516</td>\n",
       "    </tr>\n",
       "    <tr>\n",
       "      <th>DE</th>\n",
       "      <td>40.420</td>\n",
       "      <td>34.965</td>\n",
       "      <td>239467.573</td>\n",
       "    </tr>\n",
       "    <tr>\n",
       "      <th>FL</th>\n",
       "      <td>30.936</td>\n",
       "      <td>40.605</td>\n",
       "      <td>2549132.887</td>\n",
       "    </tr>\n",
       "    <tr>\n",
       "      <th>GA</th>\n",
       "      <td>31.090</td>\n",
       "      <td>36.117</td>\n",
       "      <td>1416206.827</td>\n",
       "    </tr>\n",
       "    <tr>\n",
       "      <th>HI</th>\n",
       "      <td>30.125</td>\n",
       "      <td>33.250</td>\n",
       "      <td>166315.212</td>\n",
       "    </tr>\n",
       "    <tr>\n",
       "      <th>IA</th>\n",
       "      <td>31.518</td>\n",
       "      <td>39.914</td>\n",
       "      <td>1869056.080</td>\n",
       "    </tr>\n",
       "    <tr>\n",
       "      <th>ID</th>\n",
       "      <td>26.917</td>\n",
       "      <td>43.101</td>\n",
       "      <td>526220.504</td>\n",
       "    </tr>\n",
       "    <tr>\n",
       "      <th>IL</th>\n",
       "      <td>31.177</td>\n",
       "      <td>34.503</td>\n",
       "      <td>2037262.692</td>\n",
       "    </tr>\n",
       "    <tr>\n",
       "      <th>IN</th>\n",
       "      <td>27.575</td>\n",
       "      <td>42.757</td>\n",
       "      <td>1126678.942</td>\n",
       "    </tr>\n",
       "    <tr>\n",
       "      <th>KS</th>\n",
       "      <td>31.994</td>\n",
       "      <td>37.918</td>\n",
       "      <td>1151191.853</td>\n",
       "    </tr>\n",
       "    <tr>\n",
       "      <th>KY</th>\n",
       "      <td>30.391</td>\n",
       "      <td>42.558</td>\n",
       "      <td>1833148.598</td>\n",
       "    </tr>\n",
       "    <tr>\n",
       "      <th>LA</th>\n",
       "      <td>32.873</td>\n",
       "      <td>39.286</td>\n",
       "      <td>1128769.191</td>\n",
       "    </tr>\n",
       "    <tr>\n",
       "      <th>MA</th>\n",
       "      <td>34.313</td>\n",
       "      <td>39.132</td>\n",
       "      <td>1279782.371</td>\n",
       "    </tr>\n",
       "    <tr>\n",
       "      <th>MD</th>\n",
       "      <td>32.212</td>\n",
       "      <td>38.098</td>\n",
       "      <td>952527.875</td>\n",
       "    </tr>\n",
       "    <tr>\n",
       "      <th>ME</th>\n",
       "      <td>29.541</td>\n",
       "      <td>43.367</td>\n",
       "      <td>554479.589</td>\n",
       "    </tr>\n",
       "    <tr>\n",
       "      <th>MI</th>\n",
       "      <td>32.815</td>\n",
       "      <td>37.691</td>\n",
       "      <td>1685791.627</td>\n",
       "    </tr>\n",
       "    <tr>\n",
       "      <th>MN</th>\n",
       "      <td>29.289</td>\n",
       "      <td>41.172</td>\n",
       "      <td>1424571.998</td>\n",
       "    </tr>\n",
       "    <tr>\n",
       "      <th>MO</th>\n",
       "      <td>31.298</td>\n",
       "      <td>36.875</td>\n",
       "      <td>1860375.468</td>\n",
       "    </tr>\n",
       "    <tr>\n",
       "      <th>MS</th>\n",
       "      <td>30.491</td>\n",
       "      <td>41.879</td>\n",
       "      <td>934688.898</td>\n",
       "    </tr>\n",
       "    <tr>\n",
       "      <th>MT</th>\n",
       "      <td>27.194</td>\n",
       "      <td>43.177</td>\n",
       "      <td>584804.402</td>\n",
       "    </tr>\n",
       "    <tr>\n",
       "      <th>NC</th>\n",
       "      <td>31.395</td>\n",
       "      <td>41.489</td>\n",
       "      <td>1757583.478</td>\n",
       "    </tr>\n",
       "    <tr>\n",
       "      <th>ND</th>\n",
       "      <td>32.468</td>\n",
       "      <td>35.872</td>\n",
       "      <td>626435.016</td>\n",
       "    </tr>\n",
       "    <tr>\n",
       "      <th>NE</th>\n",
       "      <td>31.841</td>\n",
       "      <td>39.576</td>\n",
       "      <td>792390.206</td>\n",
       "    </tr>\n",
       "    <tr>\n",
       "      <th>NH</th>\n",
       "      <td>35.339</td>\n",
       "      <td>35.398</td>\n",
       "      <td>442448.442</td>\n",
       "    </tr>\n",
       "    <tr>\n",
       "      <th>NJ</th>\n",
       "      <td>29.835</td>\n",
       "      <td>40.770</td>\n",
       "      <td>1009225.116</td>\n",
       "    </tr>\n",
       "    <tr>\n",
       "      <th>NM</th>\n",
       "      <td>32.307</td>\n",
       "      <td>38.132</td>\n",
       "      <td>603829.692</td>\n",
       "    </tr>\n",
       "    <tr>\n",
       "      <th>NV</th>\n",
       "      <td>32.058</td>\n",
       "      <td>36.580</td>\n",
       "      <td>400852.492</td>\n",
       "    </tr>\n",
       "    <tr>\n",
       "      <th>NY</th>\n",
       "      <td>29.267</td>\n",
       "      <td>37.875</td>\n",
       "      <td>3264476.528</td>\n",
       "    </tr>\n",
       "    <tr>\n",
       "      <th>OH</th>\n",
       "      <td>30.909</td>\n",
       "      <td>37.936</td>\n",
       "      <td>2142850.272</td>\n",
       "    </tr>\n",
       "    <tr>\n",
       "      <th>OK</th>\n",
       "      <td>30.992</td>\n",
       "      <td>43.537</td>\n",
       "      <td>1151810.816</td>\n",
       "    </tr>\n",
       "    <tr>\n",
       "      <th>OR</th>\n",
       "      <td>30.576</td>\n",
       "      <td>40.893</td>\n",
       "      <td>582007.393</td>\n",
       "    </tr>\n",
       "    <tr>\n",
       "      <th>PA</th>\n",
       "      <td>31.381</td>\n",
       "      <td>40.183</td>\n",
       "      <td>3098621.208</td>\n",
       "    </tr>\n",
       "    <tr>\n",
       "      <th>RI</th>\n",
       "      <td>38.821</td>\n",
       "      <td>32.724</td>\n",
       "      <td>157968.384</td>\n",
       "    </tr>\n",
       "    <tr>\n",
       "      <th>SC</th>\n",
       "      <td>28.587</td>\n",
       "      <td>41.634</td>\n",
       "      <td>737594.299</td>\n",
       "    </tr>\n",
       "    <tr>\n",
       "      <th>SD</th>\n",
       "      <td>30.137</td>\n",
       "      <td>35.282</td>\n",
       "      <td>479284.246</td>\n",
       "    </tr>\n",
       "    <tr>\n",
       "      <th>TN</th>\n",
       "      <td>31.158</td>\n",
       "      <td>37.181</td>\n",
       "      <td>1154016.798</td>\n",
       "    </tr>\n",
       "    <tr>\n",
       "      <th>TX</th>\n",
       "      <td>31.376</td>\n",
       "      <td>40.057</td>\n",
       "      <td>3892966.333</td>\n",
       "    </tr>\n",
       "    <tr>\n",
       "      <th>UT</th>\n",
       "      <td>33.019</td>\n",
       "      <td>39.509</td>\n",
       "      <td>681155.471</td>\n",
       "    </tr>\n",
       "    <tr>\n",
       "      <th>VA</th>\n",
       "      <td>31.296</td>\n",
       "      <td>38.284</td>\n",
       "      <td>1794007.191</td>\n",
       "    </tr>\n",
       "    <tr>\n",
       "      <th>VT</th>\n",
       "      <td>29.313</td>\n",
       "      <td>45.527</td>\n",
       "      <td>523132.588</td>\n",
       "    </tr>\n",
       "    <tr>\n",
       "      <th>WA</th>\n",
       "      <td>27.774</td>\n",
       "      <td>41.757</td>\n",
       "      <td>925137.148</td>\n",
       "    </tr>\n",
       "    <tr>\n",
       "      <th>WI</th>\n",
       "      <td>31.941</td>\n",
       "      <td>38.452</td>\n",
       "      <td>1428245.878</td>\n",
       "    </tr>\n",
       "    <tr>\n",
       "      <th>WV</th>\n",
       "      <td>31.100</td>\n",
       "      <td>37.801</td>\n",
       "      <td>1383996.263</td>\n",
       "    </tr>\n",
       "    <tr>\n",
       "      <th>WY</th>\n",
       "      <td>25.536</td>\n",
       "      <td>44.181</td>\n",
       "      <td>199371.322</td>\n",
       "    </tr>\n",
       "  </tbody>\n",
       "</table>\n",
       "</div>"
      ],
      "text/plain": [
       "    percentage of orders completed  percentage of orders canceled  totalsales\n",
       "AK                          28.019                         42.447  537054.544\n",
       "AL                          32.426                         35.206 1134351.499\n",
       "AR                          31.168                         39.453 1033689.304\n",
       "AZ                          33.459                         36.315  870212.283\n",
       "CA                          34.069                         37.233 4542157.948\n",
       "CO                          27.760                         45.016  911013.382\n",
       "CT                          31.610                         37.043  681759.629\n",
       "DC                          29.276                         37.265  368370.516\n",
       "DE                          40.420                         34.965  239467.573\n",
       "FL                          30.936                         40.605 2549132.887\n",
       "GA                          31.090                         36.117 1416206.827\n",
       "HI                          30.125                         33.250  166315.212\n",
       "IA                          31.518                         39.914 1869056.080\n",
       "ID                          26.917                         43.101  526220.504\n",
       "IL                          31.177                         34.503 2037262.692\n",
       "IN                          27.575                         42.757 1126678.942\n",
       "KS                          31.994                         37.918 1151191.853\n",
       "KY                          30.391                         42.558 1833148.598\n",
       "LA                          32.873                         39.286 1128769.191\n",
       "MA                          34.313                         39.132 1279782.371\n",
       "MD                          32.212                         38.098  952527.875\n",
       "ME                          29.541                         43.367  554479.589\n",
       "MI                          32.815                         37.691 1685791.627\n",
       "MN                          29.289                         41.172 1424571.998\n",
       "MO                          31.298                         36.875 1860375.468\n",
       "MS                          30.491                         41.879  934688.898\n",
       "MT                          27.194                         43.177  584804.402\n",
       "NC                          31.395                         41.489 1757583.478\n",
       "ND                          32.468                         35.872  626435.016\n",
       "NE                          31.841                         39.576  792390.206\n",
       "NH                          35.339                         35.398  442448.442\n",
       "NJ                          29.835                         40.770 1009225.116\n",
       "NM                          32.307                         38.132  603829.692\n",
       "NV                          32.058                         36.580  400852.492\n",
       "NY                          29.267                         37.875 3264476.528\n",
       "OH                          30.909                         37.936 2142850.272\n",
       "OK                          30.992                         43.537 1151810.816\n",
       "OR                          30.576                         40.893  582007.393\n",
       "PA                          31.381                         40.183 3098621.208\n",
       "RI                          38.821                         32.724  157968.384\n",
       "SC                          28.587                         41.634  737594.299\n",
       "SD                          30.137                         35.282  479284.246\n",
       "TN                          31.158                         37.181 1154016.798\n",
       "TX                          31.376                         40.057 3892966.333\n",
       "UT                          33.019                         39.509  681155.471\n",
       "VA                          31.296                         38.284 1794007.191\n",
       "VT                          29.313                         45.527  523132.588\n",
       "WA                          27.774                         41.757  925137.148\n",
       "WI                          31.941                         38.452 1428245.878\n",
       "WV                          31.100                         37.801 1383996.263\n",
       "WY                          25.536                         44.181  199371.322"
      ]
     },
     "execution_count": 22,
     "metadata": {},
     "output_type": "execute_result"
    }
   ],
   "source": [
    "state_stats['totalsales'] = completed_order['total'].groupby(completed_order['State']).sum()\n",
    "state_stats"
   ]
  },
  {
   "cell_type": "code",
   "execution_count": 23,
   "metadata": {},
   "outputs": [
    {
     "ename": "ValueError",
     "evalue": "Could not interpret input 'state'",
     "output_type": "error",
     "traceback": [
      "\u001b[0;31m---------------------------------------------------------------------------\u001b[0m",
      "\u001b[0;31mValueError\u001b[0m                                Traceback (most recent call last)",
      "\u001b[0;32m/var/folders/s4/bkzr4jt570bf5tgy2bjc5r_m0000gn/T/ipykernel_20754/2613307353.py\u001b[0m in \u001b[0;36m<module>\u001b[0;34m\u001b[0m\n\u001b[1;32m      1\u001b[0m \u001b[0mplt\u001b[0m\u001b[0;34m.\u001b[0m\u001b[0mfigure\u001b[0m\u001b[0;34m(\u001b[0m\u001b[0mfigsize\u001b[0m \u001b[0;34m=\u001b[0m \u001b[0;34m(\u001b[0m\u001b[0;36m20\u001b[0m\u001b[0;34m,\u001b[0m\u001b[0;36m10\u001b[0m\u001b[0;34m)\u001b[0m\u001b[0;34m)\u001b[0m\u001b[0;34m\u001b[0m\u001b[0;34m\u001b[0m\u001b[0m\n\u001b[0;32m----> 2\u001b[0;31m \u001b[0msns\u001b[0m\u001b[0;34m.\u001b[0m\u001b[0mbarplot\u001b[0m\u001b[0;34m(\u001b[0m\u001b[0mx\u001b[0m\u001b[0;34m=\u001b[0m\u001b[0;34m'state'\u001b[0m\u001b[0;34m,\u001b[0m\u001b[0my\u001b[0m\u001b[0;34m=\u001b[0m\u001b[0;34m'totalsales'\u001b[0m\u001b[0;34m,\u001b[0m\u001b[0mdata\u001b[0m\u001b[0;34m=\u001b[0m\u001b[0mstate_stats\u001b[0m\u001b[0;34m)\u001b[0m\u001b[0;34m\u001b[0m\u001b[0;34m\u001b[0m\u001b[0m\n\u001b[0m",
      "\u001b[0;32m/Applications/anaconda3/lib/python3.9/site-packages/seaborn/_decorators.py\u001b[0m in \u001b[0;36minner_f\u001b[0;34m(*args, **kwargs)\u001b[0m\n\u001b[1;32m     44\u001b[0m             )\n\u001b[1;32m     45\u001b[0m         \u001b[0mkwargs\u001b[0m\u001b[0;34m.\u001b[0m\u001b[0mupdate\u001b[0m\u001b[0;34m(\u001b[0m\u001b[0;34m{\u001b[0m\u001b[0mk\u001b[0m\u001b[0;34m:\u001b[0m \u001b[0marg\u001b[0m \u001b[0;32mfor\u001b[0m \u001b[0mk\u001b[0m\u001b[0;34m,\u001b[0m \u001b[0marg\u001b[0m \u001b[0;32min\u001b[0m \u001b[0mzip\u001b[0m\u001b[0;34m(\u001b[0m\u001b[0msig\u001b[0m\u001b[0;34m.\u001b[0m\u001b[0mparameters\u001b[0m\u001b[0;34m,\u001b[0m \u001b[0margs\u001b[0m\u001b[0;34m)\u001b[0m\u001b[0;34m}\u001b[0m\u001b[0;34m)\u001b[0m\u001b[0;34m\u001b[0m\u001b[0;34m\u001b[0m\u001b[0m\n\u001b[0;32m---> 46\u001b[0;31m         \u001b[0;32mreturn\u001b[0m \u001b[0mf\u001b[0m\u001b[0;34m(\u001b[0m\u001b[0;34m**\u001b[0m\u001b[0mkwargs\u001b[0m\u001b[0;34m)\u001b[0m\u001b[0;34m\u001b[0m\u001b[0;34m\u001b[0m\u001b[0m\n\u001b[0m\u001b[1;32m     47\u001b[0m     \u001b[0;32mreturn\u001b[0m \u001b[0minner_f\u001b[0m\u001b[0;34m\u001b[0m\u001b[0;34m\u001b[0m\u001b[0m\n\u001b[1;32m     48\u001b[0m \u001b[0;34m\u001b[0m\u001b[0m\n",
      "\u001b[0;32m/Applications/anaconda3/lib/python3.9/site-packages/seaborn/categorical.py\u001b[0m in \u001b[0;36mbarplot\u001b[0;34m(x, y, hue, data, order, hue_order, estimator, ci, n_boot, units, seed, orient, color, palette, saturation, errcolor, errwidth, capsize, dodge, ax, **kwargs)\u001b[0m\n\u001b[1;32m   3180\u001b[0m ):\n\u001b[1;32m   3181\u001b[0m \u001b[0;34m\u001b[0m\u001b[0m\n\u001b[0;32m-> 3182\u001b[0;31m     plotter = _BarPlotter(x, y, hue, data, order, hue_order,\n\u001b[0m\u001b[1;32m   3183\u001b[0m                           \u001b[0mestimator\u001b[0m\u001b[0;34m,\u001b[0m \u001b[0mci\u001b[0m\u001b[0;34m,\u001b[0m \u001b[0mn_boot\u001b[0m\u001b[0;34m,\u001b[0m \u001b[0munits\u001b[0m\u001b[0;34m,\u001b[0m \u001b[0mseed\u001b[0m\u001b[0;34m,\u001b[0m\u001b[0;34m\u001b[0m\u001b[0;34m\u001b[0m\u001b[0m\n\u001b[1;32m   3184\u001b[0m                           \u001b[0morient\u001b[0m\u001b[0;34m,\u001b[0m \u001b[0mcolor\u001b[0m\u001b[0;34m,\u001b[0m \u001b[0mpalette\u001b[0m\u001b[0;34m,\u001b[0m \u001b[0msaturation\u001b[0m\u001b[0;34m,\u001b[0m\u001b[0;34m\u001b[0m\u001b[0;34m\u001b[0m\u001b[0m\n",
      "\u001b[0;32m/Applications/anaconda3/lib/python3.9/site-packages/seaborn/categorical.py\u001b[0m in \u001b[0;36m__init__\u001b[0;34m(self, x, y, hue, data, order, hue_order, estimator, ci, n_boot, units, seed, orient, color, palette, saturation, errcolor, errwidth, capsize, dodge)\u001b[0m\n\u001b[1;32m   1582\u001b[0m                  errwidth, capsize, dodge):\n\u001b[1;32m   1583\u001b[0m         \u001b[0;34m\"\"\"Initialize the plotter.\"\"\"\u001b[0m\u001b[0;34m\u001b[0m\u001b[0;34m\u001b[0m\u001b[0m\n\u001b[0;32m-> 1584\u001b[0;31m         self.establish_variables(x, y, hue, data, orient,\n\u001b[0m\u001b[1;32m   1585\u001b[0m                                  order, hue_order, units)\n\u001b[1;32m   1586\u001b[0m         \u001b[0mself\u001b[0m\u001b[0;34m.\u001b[0m\u001b[0mestablish_colors\u001b[0m\u001b[0;34m(\u001b[0m\u001b[0mcolor\u001b[0m\u001b[0;34m,\u001b[0m \u001b[0mpalette\u001b[0m\u001b[0;34m,\u001b[0m \u001b[0msaturation\u001b[0m\u001b[0;34m)\u001b[0m\u001b[0;34m\u001b[0m\u001b[0;34m\u001b[0m\u001b[0m\n",
      "\u001b[0;32m/Applications/anaconda3/lib/python3.9/site-packages/seaborn/categorical.py\u001b[0m in \u001b[0;36mestablish_variables\u001b[0;34m(self, x, y, hue, data, orient, order, hue_order, units)\u001b[0m\n\u001b[1;32m    151\u001b[0m                 \u001b[0;32mif\u001b[0m \u001b[0misinstance\u001b[0m\u001b[0;34m(\u001b[0m\u001b[0mvar\u001b[0m\u001b[0;34m,\u001b[0m \u001b[0mstr\u001b[0m\u001b[0;34m)\u001b[0m\u001b[0;34m:\u001b[0m\u001b[0;34m\u001b[0m\u001b[0;34m\u001b[0m\u001b[0m\n\u001b[1;32m    152\u001b[0m                     \u001b[0merr\u001b[0m \u001b[0;34m=\u001b[0m \u001b[0;34m\"Could not interpret input '{}'\"\u001b[0m\u001b[0;34m.\u001b[0m\u001b[0mformat\u001b[0m\u001b[0;34m(\u001b[0m\u001b[0mvar\u001b[0m\u001b[0;34m)\u001b[0m\u001b[0;34m\u001b[0m\u001b[0;34m\u001b[0m\u001b[0m\n\u001b[0;32m--> 153\u001b[0;31m                     \u001b[0;32mraise\u001b[0m \u001b[0mValueError\u001b[0m\u001b[0;34m(\u001b[0m\u001b[0merr\u001b[0m\u001b[0;34m)\u001b[0m\u001b[0;34m\u001b[0m\u001b[0;34m\u001b[0m\u001b[0m\n\u001b[0m\u001b[1;32m    154\u001b[0m \u001b[0;34m\u001b[0m\u001b[0m\n\u001b[1;32m    155\u001b[0m             \u001b[0;31m# Figure out the plotting orientation\u001b[0m\u001b[0;34m\u001b[0m\u001b[0;34m\u001b[0m\u001b[0m\n",
      "\u001b[0;31mValueError\u001b[0m: Could not interpret input 'state'"
     ]
    },
    {
     "data": {
      "text/plain": [
       "<Figure size 1440x720 with 0 Axes>"
      ]
     },
     "metadata": {},
     "output_type": "display_data"
    }
   ],
   "source": [
    "plt.figure(figsize = (20,10))\n",
    "sns.barplot(x='state',y='totalsales',data=state_stats)"
   ]
  },
  {
   "cell_type": "code",
   "execution_count": null,
   "metadata": {},
   "outputs": [
    {
     "data": {
      "text/plain": [
       "<seaborn.axisgrid.FacetGrid at 0x1314afc10>"
      ]
     },
     "execution_count": 105,
     "metadata": {},
     "output_type": "execute_result"
    },
    {
     "data": {
      "image/png": "[encoded data removed]",
      "text/plain": [
       "<Figure size 360x360 with 1 Axes>"
      ]
     },
     "metadata": {
      "needs_background": "light"
     },
     "output_type": "display_data"
    }
   ],
   "source": [
    "sns.displot(state_stats,x='totalsales',bins=20,kde=True,)"
   ]
  },
  {
   "cell_type": "markdown",
   "metadata": {},
   "source": [
    "1) Order Date whats being ordered at specific dates\n",
    "2) Order id if specific customers return or accepted or refunds\n",
    "3) Where most of the money comes from?\n",
    "4) What state online orders the most?"
   ]
  },
  {
   "cell_type": "code",
   "execution_count": null,
   "metadata": {},
   "outputs": [
    {
     "name": "stdout",
     "output_type": "stream",
     "text": [
      "December-2021 is the most successful month with 38183 sales!\n",
      "Next up is April-2021 with 12440 sales!\n",
      "Then March-2021 with 11660 sales!\n",
      "The rest of the sales per month go as follows:\n",
      "Jan-2021    7564\n",
      "May-2021    5413\n",
      "Nov-2020    4772\n",
      "Feb-2021    4510\n",
      "Oct-2020    2657\n",
      "Jun-2021    1637\n",
      "Aug-2021      82\n",
      "Jul-2021      29\n",
      "Sep-2021      21\n",
      "Name: month, dtype: int64\n"
     ]
    }
   ],
   "source": [
    "print(\"December-2021 is the most successful month with \" + str(completed_order['month'].value_counts()[0])+ \" sales!\"+\n",
    "\"\\n\"+\n",
    "\"Next up is April-2021 with \" + str(completed_order['month'].value_counts()[1]) +\n",
    "\" sales!\"+ \"\\n\" +\n",
    "\"Then March-2021 with \" + str(completed_order['month'].value_counts()[2]) + \" sales!\"+\n",
    "\"\\n\" + \"The rest of the sales per month go as follows:\" + \"\\n\" +\n",
    "str(completed_order['month'].value_counts()[3:]))"
   ]
  },
  {
   "cell_type": "code",
   "execution_count": null,
   "metadata": {},
   "outputs": [
    {
     "data": {
      "text/html": [
       "<div>\n",
       "<style scoped>\n",
       "    .dataframe tbody tr th:only-of-type {\n",
       "        vertical-align: middle;\n",
       "    }\n",
       "\n",
       "    .dataframe tbody tr th {\n",
       "        vertical-align: top;\n",
       "    }\n",
       "\n",
       "    .dataframe thead th {\n",
       "        text-align: right;\n",
       "    }\n",
       "</style>\n",
       "<table border=\"1\" class=\"dataframe\">\n",
       "  <thead>\n",
       "    <tr style=\"text-align: right;\">\n",
       "      <th></th>\n",
       "      <th>months</th>\n",
       "      <th>sales</th>\n",
       "    </tr>\n",
       "  </thead>\n",
       "  <tbody>\n",
       "    <tr>\n",
       "      <th>0</th>\n",
       "      <td>Dec-2020</td>\n",
       "      <td>38183</td>\n",
       "    </tr>\n",
       "    <tr>\n",
       "      <th>1</th>\n",
       "      <td>Apr-2021</td>\n",
       "      <td>12440</td>\n",
       "    </tr>\n",
       "    <tr>\n",
       "      <th>2</th>\n",
       "      <td>Mar-2021</td>\n",
       "      <td>11660</td>\n",
       "    </tr>\n",
       "    <tr>\n",
       "      <th>3</th>\n",
       "      <td>Jan-2021</td>\n",
       "      <td>7564</td>\n",
       "    </tr>\n",
       "    <tr>\n",
       "      <th>4</th>\n",
       "      <td>May-2021</td>\n",
       "      <td>5413</td>\n",
       "    </tr>\n",
       "    <tr>\n",
       "      <th>5</th>\n",
       "      <td>Nov-2020</td>\n",
       "      <td>4772</td>\n",
       "    </tr>\n",
       "    <tr>\n",
       "      <th>6</th>\n",
       "      <td>Feb-2021</td>\n",
       "      <td>4510</td>\n",
       "    </tr>\n",
       "    <tr>\n",
       "      <th>7</th>\n",
       "      <td>Oct-2020</td>\n",
       "      <td>2657</td>\n",
       "    </tr>\n",
       "    <tr>\n",
       "      <th>8</th>\n",
       "      <td>Jun-2021</td>\n",
       "      <td>1637</td>\n",
       "    </tr>\n",
       "    <tr>\n",
       "      <th>9</th>\n",
       "      <td>Aug-2021</td>\n",
       "      <td>82</td>\n",
       "    </tr>\n",
       "    <tr>\n",
       "      <th>10</th>\n",
       "      <td>Jul-2021</td>\n",
       "      <td>29</td>\n",
       "    </tr>\n",
       "    <tr>\n",
       "      <th>11</th>\n",
       "      <td>Sep-2021</td>\n",
       "      <td>21</td>\n",
       "    </tr>\n",
       "  </tbody>\n",
       "</table>\n",
       "</div>"
      ],
      "text/plain": [
       "      months  sales\n",
       "0   Dec-2020  38183\n",
       "1   Apr-2021  12440\n",
       "2   Mar-2021  11660\n",
       "3   Jan-2021   7564\n",
       "4   May-2021   5413\n",
       "5   Nov-2020   4772\n",
       "6   Feb-2021   4510\n",
       "7   Oct-2020   2657\n",
       "8   Jun-2021   1637\n",
       "9   Aug-2021     82\n",
       "10  Jul-2021     29\n",
       "11  Sep-2021     21"
      ]
     },
     "execution_count": 226,
     "metadata": {},
     "output_type": "execute_result"
    }
   ],
   "source": [
    "month_data = pd.DataFrame()\n",
    "month_data['sales'] = completed_order['month'].value_counts()\n",
    "month_data.reset_index(inplace=True)\n",
    "month_data.rename(columns={'index':'months'},inplace=True)\n",
    "month_data"
   ]
  },
  {
   "cell_type": "code",
   "execution_count": null,
   "metadata": {},
   "outputs": [
    {
     "data": {
      "text/plain": [
       "<AxesSubplot:xlabel='months', ylabel='sales'>"
      ]
     },
     "execution_count": 238,
     "metadata": {},
     "output_type": "execute_result"
    },
    {
     "data": {
      "image/png": "[encoded data removed]",
      "text/plain": [
       "<Figure size 1440x720 with 1 Axes>"
      ]
     },
     "metadata": {
      "needs_background": "light"
     },
     "output_type": "display_data"
    }
   ],
   "source": [
    "plt.figure(figsize=(20,10))\n",
    "sns.barplot(x='months',y='sales', data=month_data)"
   ]
  },
  {
   "cell_type": "code",
   "execution_count": null,
   "metadata": {},
   "outputs": [
    {
     "data": {
      "text/html": [
       "<div>\n",
       "<style scoped>\n",
       "    .dataframe tbody tr th:only-of-type {\n",
       "        vertical-align: middle;\n",
       "    }\n",
       "\n",
       "    .dataframe tbody tr th {\n",
       "        vertical-align: top;\n",
       "    }\n",
       "\n",
       "    .dataframe thead th {\n",
       "        text-align: right;\n",
       "    }\n",
       "</style>\n",
       "<table border=\"1\" class=\"dataframe\">\n",
       "  <thead>\n",
       "    <tr style=\"text-align: right;\">\n",
       "      <th></th>\n",
       "      <th>categories</th>\n",
       "      <th>sales</th>\n",
       "    </tr>\n",
       "  </thead>\n",
       "  <tbody>\n",
       "    <tr>\n",
       "      <th>0</th>\n",
       "      <td>Mobiles &amp; Tablets</td>\n",
       "      <td>20295</td>\n",
       "    </tr>\n",
       "    <tr>\n",
       "      <th>1</th>\n",
       "      <td>Men's Fashion</td>\n",
       "      <td>14697</td>\n",
       "    </tr>\n",
       "    <tr>\n",
       "      <th>2</th>\n",
       "      <td>Appliances</td>\n",
       "      <td>12648</td>\n",
       "    </tr>\n",
       "    <tr>\n",
       "      <th>3</th>\n",
       "      <td>Women's Fashion</td>\n",
       "      <td>8668</td>\n",
       "    </tr>\n",
       "    <tr>\n",
       "      <th>4</th>\n",
       "      <td>Entertainment</td>\n",
       "      <td>6535</td>\n",
       "    </tr>\n",
       "    <tr>\n",
       "      <th>5</th>\n",
       "      <td>Beauty &amp; Grooming</td>\n",
       "      <td>5983</td>\n",
       "    </tr>\n",
       "    <tr>\n",
       "      <th>6</th>\n",
       "      <td>Home &amp; Living</td>\n",
       "      <td>4434</td>\n",
       "    </tr>\n",
       "    <tr>\n",
       "      <th>7</th>\n",
       "      <td>Superstore</td>\n",
       "      <td>4170</td>\n",
       "    </tr>\n",
       "    <tr>\n",
       "      <th>8</th>\n",
       "      <td>Health &amp; Sports</td>\n",
       "      <td>2809</td>\n",
       "    </tr>\n",
       "    <tr>\n",
       "      <th>9</th>\n",
       "      <td>Computing</td>\n",
       "      <td>2536</td>\n",
       "    </tr>\n",
       "    <tr>\n",
       "      <th>10</th>\n",
       "      <td>Soghaat</td>\n",
       "      <td>2096</td>\n",
       "    </tr>\n",
       "    <tr>\n",
       "      <th>11</th>\n",
       "      <td>Kids &amp; Baby</td>\n",
       "      <td>1838</td>\n",
       "    </tr>\n",
       "    <tr>\n",
       "      <th>12</th>\n",
       "      <td>Others</td>\n",
       "      <td>1813</td>\n",
       "    </tr>\n",
       "    <tr>\n",
       "      <th>13</th>\n",
       "      <td>Books</td>\n",
       "      <td>226</td>\n",
       "    </tr>\n",
       "    <tr>\n",
       "      <th>14</th>\n",
       "      <td>School &amp; Education</td>\n",
       "      <td>220</td>\n",
       "    </tr>\n",
       "  </tbody>\n",
       "</table>\n",
       "</div>"
      ],
      "text/plain": [
       "            categories  sales\n",
       "0    Mobiles & Tablets  20295\n",
       "1        Men's Fashion  14697\n",
       "2           Appliances  12648\n",
       "3      Women's Fashion   8668\n",
       "4        Entertainment   6535\n",
       "5    Beauty & Grooming   5983\n",
       "6        Home & Living   4434\n",
       "7           Superstore   4170\n",
       "8      Health & Sports   2809\n",
       "9            Computing   2536\n",
       "10             Soghaat   2096\n",
       "11         Kids & Baby   1838\n",
       "12              Others   1813\n",
       "13               Books    226\n",
       "14  School & Education    220"
      ]
     },
     "execution_count": 295,
     "metadata": {},
     "output_type": "execute_result"
    }
   ],
   "source": [
    "categories  = completed_order['category'].value_counts()\n",
    "keylist = (list(categories.index))\n",
    "valuelist = categories.values\n",
    "categorydf = pd.DataFrame(list(zip(keylist,valuelist)),columns=['categories','sales'])\n",
    "categorydf"
   ]
  },
  {
   "cell_type": "code",
   "execution_count": null,
   "metadata": {},
   "outputs": [
    {
     "data": {
      "text/plain": [
       "<AxesSubplot:xlabel='categories', ylabel='sales'>"
      ]
     },
     "execution_count": 298,
     "metadata": {},
     "output_type": "execute_result"
    },
    {
     "data": {
      "image/png": "[encoded data removed]",
      "text/plain": [
       "<Figure size 1440x720 with 1 Axes>"
      ]
     },
     "metadata": {
      "needs_background": "light"
     },
     "output_type": "display_data"
    }
   ],
   "source": [
    "plt.figure(figsize=(20,10))\n",
    "sns.barplot(x='categories',y='sales',data=categorydf)"
   ]
  },
  {
   "cell_type": "markdown",
   "metadata": {},
   "source": [
    "<h3>Model Building</h3>"
   ]
  },
  {
   "cell_type": "code",
   "execution_count": null,
   "metadata": {},
   "outputs": [],
   "source": [
    "sales_data = pd.DataFrame()\n",
    "mens_fashion = df[df['category'] == \"Men's Fashion\"].sort_values('month')\n",
    "sales_data['mf_monthly'] = mens_fashion['month'].value_counts()\n",
    "mobiles = df[df['category'] == \"Mobiles & Tablets\"].sort_values('month')\n",
    "sales_data['mobiles_monthly'] = mobiles['month'].value_counts()\n",
    "appliances = df[df['category'] == \"Appliances\"].sort_values('month')\n",
    "sales_data['appliances_monthly'] = appliances['month'].value_counts()"
   ]
  },
  {
   "cell_type": "code",
   "execution_count": null,
   "metadata": {},
   "outputs": [
    {
     "data": {
      "text/html": [
       "<div>\n",
       "<style scoped>\n",
       "    .dataframe tbody tr th:only-of-type {\n",
       "        vertical-align: middle;\n",
       "    }\n",
       "\n",
       "    .dataframe tbody tr th {\n",
       "        vertical-align: top;\n",
       "    }\n",
       "\n",
       "    .dataframe thead th {\n",
       "        text-align: right;\n",
       "    }\n",
       "</style>\n",
       "<table border=\"1\" class=\"dataframe\">\n",
       "  <thead>\n",
       "    <tr style=\"text-align: right;\">\n",
       "      <th></th>\n",
       "      <th>months</th>\n",
       "      <th>mf_monthly</th>\n",
       "      <th>mobiles_monthly</th>\n",
       "      <th>wf_monthly</th>\n",
       "    </tr>\n",
       "  </thead>\n",
       "  <tbody>\n",
       "    <tr>\n",
       "      <th>0</th>\n",
       "      <td>Dec-2020</td>\n",
       "      <td>16026</td>\n",
       "      <td>19084</td>\n",
       "      <td>14306</td>\n",
       "    </tr>\n",
       "    <tr>\n",
       "      <th>1</th>\n",
       "      <td>Apr-2021</td>\n",
       "      <td>3658</td>\n",
       "      <td>6824</td>\n",
       "      <td>3237</td>\n",
       "    </tr>\n",
       "    <tr>\n",
       "      <th>2</th>\n",
       "      <td>Mar-2021</td>\n",
       "      <td>3584</td>\n",
       "      <td>5568</td>\n",
       "      <td>2759</td>\n",
       "    </tr>\n",
       "    <tr>\n",
       "      <th>3</th>\n",
       "      <td>Jan-2021</td>\n",
       "      <td>3251</td>\n",
       "      <td>2811</td>\n",
       "      <td>1920</td>\n",
       "    </tr>\n",
       "    <tr>\n",
       "      <th>4</th>\n",
       "      <td>Nov-2020</td>\n",
       "      <td>2273</td>\n",
       "      <td>3981</td>\n",
       "      <td>672</td>\n",
       "    </tr>\n",
       "    <tr>\n",
       "      <th>5</th>\n",
       "      <td>Jun-2021</td>\n",
       "      <td>2050</td>\n",
       "      <td>7161</td>\n",
       "      <td>4213</td>\n",
       "    </tr>\n",
       "    <tr>\n",
       "      <th>6</th>\n",
       "      <td>May-2021</td>\n",
       "      <td>1984</td>\n",
       "      <td>2345</td>\n",
       "      <td>1016</td>\n",
       "    </tr>\n",
       "    <tr>\n",
       "      <th>7</th>\n",
       "      <td>Jul-2021</td>\n",
       "      <td>1870</td>\n",
       "      <td>3771</td>\n",
       "      <td>1345</td>\n",
       "    </tr>\n",
       "    <tr>\n",
       "      <th>8</th>\n",
       "      <td>Oct-2020</td>\n",
       "      <td>1768</td>\n",
       "      <td>2101</td>\n",
       "      <td>512</td>\n",
       "    </tr>\n",
       "    <tr>\n",
       "      <th>9</th>\n",
       "      <td>Sep-2021</td>\n",
       "      <td>1577</td>\n",
       "      <td>2657</td>\n",
       "      <td>1141</td>\n",
       "    </tr>\n",
       "    <tr>\n",
       "      <th>10</th>\n",
       "      <td>Feb-2021</td>\n",
       "      <td>1383</td>\n",
       "      <td>1879</td>\n",
       "      <td>1035</td>\n",
       "    </tr>\n",
       "    <tr>\n",
       "      <th>11</th>\n",
       "      <td>Aug-2021</td>\n",
       "      <td>1289</td>\n",
       "      <td>3579</td>\n",
       "      <td>878</td>\n",
       "    </tr>\n",
       "  </tbody>\n",
       "</table>\n",
       "</div>"
      ],
      "text/plain": [
       "      months  mf_monthly  mobiles_monthly  wf_monthly\n",
       "0   Dec-2020       16026            19084       14306\n",
       "1   Apr-2021        3658             6824        3237\n",
       "2   Mar-2021        3584             5568        2759\n",
       "3   Jan-2021        3251             2811        1920\n",
       "4   Nov-2020        2273             3981         672\n",
       "5   Jun-2021        2050             7161        4213\n",
       "6   May-2021        1984             2345        1016\n",
       "7   Jul-2021        1870             3771        1345\n",
       "8   Oct-2020        1768             2101         512\n",
       "9   Sep-2021        1577             2657        1141\n",
       "10  Feb-2021        1383             1879        1035\n",
       "11  Aug-2021        1289             3579         878"
      ]
     },
     "execution_count": 432,
     "metadata": {},
     "output_type": "execute_result"
    }
   ],
   "source": [
    "sales_data.reset_index(inplace=True)\n",
    "sales_data.rename(columns={'index':'months'},inplace=True)\n",
    "sales_data"
   ]
  },
  {
   "cell_type": "code",
   "execution_count": null,
   "metadata": {},
   "outputs": [],
   "source": [
    "from pandas.api.types import CategoricalDtype"
   ]
  },
  {
   "cell_type": "code",
   "execution_count": null,
   "metadata": {},
   "outputs": [],
   "source": [
    "month_order = CategoricalDtype(\n",
    "    ['Oct-2020', 'Nov-2020', 'Dec-2020', 'Jan-2021', 'Feb-2021','Mar-2021','Apr-2021','May-2021','Jun-2021','Jul-2021','Aug-2021','Sep-2021'], \n",
    "    ordered=True\n",
    ")"
   ]
  },
  {
   "cell_type": "code",
   "execution_count": null,
   "metadata": {},
   "outputs": [],
   "source": [
    "sales_data['months'] = sales_data['months'].astype(month_order)\n",
    "sales_data['months']\n",
    "sales_data = sales_data.sort_values('months')"
   ]
  },
  {
   "cell_type": "code",
   "execution_count": null,
   "metadata": {},
   "outputs": [
    {
     "data": {
      "text/html": [
       "<div>\n",
       "<style scoped>\n",
       "    .dataframe tbody tr th:only-of-type {\n",
       "        vertical-align: middle;\n",
       "    }\n",
       "\n",
       "    .dataframe tbody tr th {\n",
       "        vertical-align: top;\n",
       "    }\n",
       "\n",
       "    .dataframe thead th {\n",
       "        text-align: right;\n",
       "    }\n",
       "</style>\n",
       "<table border=\"1\" class=\"dataframe\">\n",
       "  <thead>\n",
       "    <tr style=\"text-align: right;\">\n",
       "      <th></th>\n",
       "      <th>months</th>\n",
       "      <th>mf_monthly</th>\n",
       "      <th>mobiles_monthly</th>\n",
       "      <th>wf_monthly</th>\n",
       "    </tr>\n",
       "  </thead>\n",
       "  <tbody>\n",
       "    <tr>\n",
       "      <th>8</th>\n",
       "      <td>Oct-2020</td>\n",
       "      <td>1768</td>\n",
       "      <td>2101</td>\n",
       "      <td>512</td>\n",
       "    </tr>\n",
       "    <tr>\n",
       "      <th>4</th>\n",
       "      <td>Nov-2020</td>\n",
       "      <td>2273</td>\n",
       "      <td>3981</td>\n",
       "      <td>672</td>\n",
       "    </tr>\n",
       "    <tr>\n",
       "      <th>0</th>\n",
       "      <td>Dec-2020</td>\n",
       "      <td>16026</td>\n",
       "      <td>19084</td>\n",
       "      <td>14306</td>\n",
       "    </tr>\n",
       "    <tr>\n",
       "      <th>3</th>\n",
       "      <td>Jan-2021</td>\n",
       "      <td>3251</td>\n",
       "      <td>2811</td>\n",
       "      <td>1920</td>\n",
       "    </tr>\n",
       "    <tr>\n",
       "      <th>10</th>\n",
       "      <td>Feb-2021</td>\n",
       "      <td>1383</td>\n",
       "      <td>1879</td>\n",
       "      <td>1035</td>\n",
       "    </tr>\n",
       "    <tr>\n",
       "      <th>2</th>\n",
       "      <td>Mar-2021</td>\n",
       "      <td>3584</td>\n",
       "      <td>5568</td>\n",
       "      <td>2759</td>\n",
       "    </tr>\n",
       "    <tr>\n",
       "      <th>1</th>\n",
       "      <td>Apr-2021</td>\n",
       "      <td>3658</td>\n",
       "      <td>6824</td>\n",
       "      <td>3237</td>\n",
       "    </tr>\n",
       "    <tr>\n",
       "      <th>6</th>\n",
       "      <td>May-2021</td>\n",
       "      <td>1984</td>\n",
       "      <td>2345</td>\n",
       "      <td>1016</td>\n",
       "    </tr>\n",
       "    <tr>\n",
       "      <th>5</th>\n",
       "      <td>Jun-2021</td>\n",
       "      <td>2050</td>\n",
       "      <td>7161</td>\n",
       "      <td>4213</td>\n",
       "    </tr>\n",
       "    <tr>\n",
       "      <th>7</th>\n",
       "      <td>Jul-2021</td>\n",
       "      <td>1870</td>\n",
       "      <td>3771</td>\n",
       "      <td>1345</td>\n",
       "    </tr>\n",
       "    <tr>\n",
       "      <th>11</th>\n",
       "      <td>Aug-2021</td>\n",
       "      <td>1289</td>\n",
       "      <td>3579</td>\n",
       "      <td>878</td>\n",
       "    </tr>\n",
       "    <tr>\n",
       "      <th>9</th>\n",
       "      <td>Sep-2021</td>\n",
       "      <td>1577</td>\n",
       "      <td>2657</td>\n",
       "      <td>1141</td>\n",
       "    </tr>\n",
       "  </tbody>\n",
       "</table>\n",
       "</div>"
      ],
      "text/plain": [
       "      months  mf_monthly  mobiles_monthly  wf_monthly\n",
       "8   Oct-2020        1768             2101         512\n",
       "4   Nov-2020        2273             3981         672\n",
       "0   Dec-2020       16026            19084       14306\n",
       "3   Jan-2021        3251             2811        1920\n",
       "10  Feb-2021        1383             1879        1035\n",
       "2   Mar-2021        3584             5568        2759\n",
       "1   Apr-2021        3658             6824        3237\n",
       "6   May-2021        1984             2345        1016\n",
       "5   Jun-2021        2050             7161        4213\n",
       "7   Jul-2021        1870             3771        1345\n",
       "11  Aug-2021        1289             3579         878\n",
       "9   Sep-2021        1577             2657        1141"
      ]
     },
     "execution_count": 436,
     "metadata": {},
     "output_type": "execute_result"
    }
   ],
   "source": [
    "sales_data"
   ]
  },
  {
   "cell_type": "code",
   "execution_count": null,
   "metadata": {},
   "outputs": [
    {
     "data": {
      "text/plain": [
       "<AxesSubplot:>"
      ]
     },
     "execution_count": 437,
     "metadata": {},
     "output_type": "execute_result"
    },
    {
     "data": {
      "image/png": "[encoded data removed]",
      "text/plain": [
       "<Figure size 1440x360 with 1 Axes>"
      ]
     },
     "metadata": {
      "needs_background": "light"
     },
     "output_type": "display_data"
    }
   ],
   "source": [
    "fig = plt.figure(figsize = (20,5))\n",
    "sns.lineplot(data=sales_data)"
   ]
  }
 ],
 "metadata": {
  "interpreter": {
   "hash": "cd78fef2128015050713e82ca51c6520b11aee7c9ee8df750520bbbc7384cbaa"
  },
  "kernelspec": {
   "display_name": "Python 3.9.7 ('base')",
   "language": "python",
   "name": "python3"
  },
  "language_info": {
   "codemirror_mode": {
    "name": "ipython",
    "version": 3
   },
   "file_extension": ".py",
   "mimetype": "text/x-python",
   "name": "python",
   "nbconvert_exporter": "python",
   "pygments_lexer": "ipython3",
   "version": "3.9.7"
  },
  "orig_nbformat": 4
 },
 "nbformat": 4,
 "nbformat_minor": 2
}
